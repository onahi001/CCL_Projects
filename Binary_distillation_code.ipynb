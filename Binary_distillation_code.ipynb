{
 "cells": [
  {
   "cell_type": "code",
   "execution_count": 115,
   "metadata": {},
   "outputs": [],
   "source": [
    "# importing required libaries\n",
    "\n",
    "import numpy as np\n",
    "import matplotlib.pyplot as plt\n",
    "from scipy.optimize import minimize"
   ]
  },
  {
   "cell_type": "code",
   "execution_count": 138,
   "metadata": {},
   "outputs": [],
   "source": [
    "def equilibrium_data (alpha = None, po_a=None, po_b=None):\n",
    "    \n",
    "    x_eq = np.linspace(0, 1, 51)\n",
    "    if alpha != None:\n",
    "        y_eq = (alpha * x_eq)/(1 + (alpha-1)*x_eq)\n",
    "        return x_eq, y_eq\n",
    "    \n",
    "    elif po_a != None and po_b != None:\n",
    "        alpha = po_a/po_b\n",
    "        y_eq = (alpha * x_eq)/1 + (alpha-1)*x_eq\n",
    "        return x_eq, y_eq\n",
    "\n",
    "def calc(Hv, Hf, Hl):\n",
    "    q = (Hv - Hf)/(Hv-Hl)\n",
    "    return q\n",
    "\n",
    "def equil (alpha, yn):\n",
    "    return yn / (alpha - (alpha -1)*yn)\n",
    "\n",
    "def rect (R, xn, xd):\n",
    "    return (R/(R+1))*xn + (1/(R+1))*xd\n",
    "\n",
    "def strip (alpha, ym):\n",
    "    return ym / (alpha - (alpha -1)*ym)\n",
    "\n",
    "F = 100\n",
    "D = 50\n",
    "W = 50\n",
    "alpha = 3\n",
    "xd = 0.95\n",
    "xf = 0.5\n",
    "xw = 0.05\n",
    "q = 0.5\n",
    "n = 7\n",
    "\n",
    "def mccabe_eqn (R):\n",
    "    count = 0\n",
    "    # calculating important variables of the rectifying and stripping equation\n",
    "    Ln = R*D\n",
    "    #Vn = Ln + D\n",
    "    Lm = Ln + (q*F)\n",
    "    Vm = Lm - W\n",
    "    \n",
    "    # setting starting values\n",
    "    yn = xd\n",
    "    xn = xd\n",
    "    \n",
    "    # iterating over the number of stages\n",
    "    #while count < n:\n",
    "        # computing the number of stages for Rectifying Section\n",
    "    while xn > xf and count < n:\n",
    "            \n",
    "        # Finding Equilibrium value of x\n",
    "        xn = equil (alpha, yn)\n",
    "            \n",
    "        # the rectifying Component Line Equation\n",
    "        yn = rect (R, xn, xd)\n",
    "        count +=1\n",
    "\n",
    "        \n",
    "    # computing the number of stages for Stripping Section\n",
    "    while xn > xw and count < n:\n",
    "            \n",
    "        # Finding Equilibrium value of x\n",
    "        xn = equil (alpha, yn)\n",
    "            \n",
    "        # the stripping Component Line Equation\n",
    "        yn = strip (alpha, yn)\n",
    "        count +=1 \n",
    "           \n",
    "    return abs(yn - xw)\n",
    "        \n",
    "\n"
   ]
  },
  {
   "cell_type": "code",
   "execution_count": 155,
   "metadata": {},
   "outputs": [
    {
     "ename": "NameError",
     "evalue": "name 'mccabe_plot' is not defined",
     "output_type": "error",
     "traceback": [
      "\u001b[1;31m---------------------------------------------------------------------------\u001b[0m",
      "\u001b[1;31mNameError\u001b[0m                                 Traceback (most recent call last)",
      "\u001b[1;32mc:\\Users\\HP\\Documents\\GitHub\\CCL_Projects\\Binary_distillation_code.ipynb Cell 3\u001b[0m line \u001b[0;36m4\n\u001b[0;32m      <a href='vscode-notebook-cell:/c%3A/Users/HP/Documents/GitHub/CCL_Projects/Binary_distillation_code.ipynb#X14sZmlsZQ%3D%3D?line=0'>1</a>\u001b[0m \u001b[39m#something wrong\u001b[39;00m\n\u001b[0;32m      <a href='vscode-notebook-cell:/c%3A/Users/HP/Documents/GitHub/CCL_Projects/Binary_distillation_code.ipynb#X14sZmlsZQ%3D%3D?line=1'>2</a>\u001b[0m \u001b[39m# need material ballace\u001b[39;00m\n\u001b[0;32m      <a href='vscode-notebook-cell:/c%3A/Users/HP/Documents/GitHub/CCL_Projects/Binary_distillation_code.ipynb#X14sZmlsZQ%3D%3D?line=2'>3</a>\u001b[0m \u001b[39m# answer is \u001b[39;00m\n\u001b[1;32m----> <a href='vscode-notebook-cell:/c%3A/Users/HP/Documents/GitHub/CCL_Projects/Binary_distillation_code.ipynb#X14sZmlsZQ%3D%3D?line=3'>4</a>\u001b[0m xn_points, yn_points, rect_points, strip_points, q_points, no_stage \u001b[39m=\u001b[39m mccabe_plot (alpha\u001b[39m=\u001b[39m\u001b[39m3\u001b[39m, xd\u001b[39m=\u001b[39m\u001b[39m0.95\u001b[39m, xw\u001b[39m=\u001b[39m\u001b[39m0.05\u001b[39m, xf\u001b[39m=\u001b[39m\u001b[39m0.5\u001b[39m, F\u001b[39m=\u001b[39m\u001b[39m100\u001b[39m, R\u001b[39m=\u001b[39m\u001b[39m2.21\u001b[39m, D\u001b[39m=\u001b[39m\u001b[39m50\u001b[39m, W\u001b[39m=\u001b[39m\u001b[39m50\u001b[39m, q\u001b[39m=\u001b[39m\u001b[39m0.5\u001b[39m)\n\u001b[0;32m      <a href='vscode-notebook-cell:/c%3A/Users/HP/Documents/GitHub/CCL_Projects/Binary_distillation_code.ipynb#X14sZmlsZQ%3D%3D?line=4'>5</a>\u001b[0m \u001b[39mprint\u001b[39m(no_stage)\n\u001b[0;32m      <a href='vscode-notebook-cell:/c%3A/Users/HP/Documents/GitHub/CCL_Projects/Binary_distillation_code.ipynb#X14sZmlsZQ%3D%3D?line=5'>6</a>\u001b[0m x_eq, y_eq \u001b[39m=\u001b[39m equilibrium_data(alpha\u001b[39m=\u001b[39m\u001b[39m3\u001b[39m)\n",
      "\u001b[1;31mNameError\u001b[0m: name 'mccabe_plot' is not defined"
     ]
    }
   ],
   "source": [
    "#something wrong\n",
    "# need material ballace\n",
    "# answer is \n",
    "xn_points, yn_points, rect_points, strip_points, q_points, no_stage = mccabe_plot (alpha=3, xd=0.95, xw=0.05, xf=0.5, F=100, R=2.21, D=50, W=50, q=0.5)\n",
    "print(no_stage)\n",
    "x_eq, y_eq = equilibrium_data(alpha=3)\n",
    "x_y_plot(x_eq, y_eq, rect_points, strip_points, xn_points, yn_points, q_points, xf=0.5, q=0.5)"
   ]
  },
  {
   "cell_type": "code",
   "execution_count": null,
   "metadata": {},
   "outputs": [
    {
     "data": {
      "text/plain": [
       "0.02344252253957801"
      ]
     },
     "execution_count": 148,
     "metadata": {},
     "output_type": "execute_result"
    }
   ],
   "source": [
    "mccabe_eqn (90)"
   ]
  },
  {
   "cell_type": "code",
   "execution_count": 149,
   "metadata": {},
   "outputs": [],
   "source": [
    "result = minimize(mccabe_eqn, 4, method='BFGS')\n",
    "test = result.x[0]\n",
    "test"
   ]
  },
  {
   "cell_type": "code",
   "execution_count": 153,
   "metadata": {},
   "outputs": [],
   "source": [
    "test = result.x[0]"
   ]
  },
  {
   "cell_type": "code",
   "execution_count": 154,
   "metadata": {},
   "outputs": [
    {
     "data": {
      "text/plain": [
       "2.2180816941478008"
      ]
     },
     "execution_count": 154,
     "metadata": {},
     "output_type": "execute_result"
    }
   ],
   "source": []
  },
  {
   "cell_type": "code",
   "execution_count": null,
   "metadata": {},
   "outputs": [],
   "source": []
  },
  {
   "cell_type": "code",
   "execution_count": null,
   "metadata": {},
   "outputs": [],
   "source": []
  },
  {
   "cell_type": "code",
   "execution_count": null,
   "metadata": {},
   "outputs": [],
   "source": []
  }
 ],
 "metadata": {
  "kernelspec": {
   "display_name": "Python 3",
   "language": "python",
   "name": "python3"
  },
  "language_info": {
   "codemirror_mode": {
    "name": "ipython",
    "version": 3
   },
   "file_extension": ".py",
   "mimetype": "text/x-python",
   "name": "python",
   "nbconvert_exporter": "python",
   "pygments_lexer": "ipython3",
   "version": "3.12.3"
  }
 },
 "nbformat": 4,
 "nbformat_minor": 2
}
